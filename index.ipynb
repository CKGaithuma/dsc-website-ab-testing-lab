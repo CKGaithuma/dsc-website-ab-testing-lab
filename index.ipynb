{
 "cells": [
  {
   "attachments": {},
   "cell_type": "markdown",
   "metadata": {},
   "source": [
    "# Website A/B Testing - Lab\n",
    "\n",
    "## Introduction\n",
    "\n",
    "In this lab, you'll get another chance to practice your skills at conducting a full A/B test analysis. It will also be a chance to practice your data exploration and processing skills! The scenario you'll be investigating is data collected from the homepage of a music app page for audacity.\n",
    "\n",
    "## Objectives\n",
    "\n",
    "You will be able to:\n",
    "* Analyze the data from a website A/B test to draw relevant conclusions\n",
    "* Explore and analyze web action data"
   ]
  },
  {
   "attachments": {},
   "cell_type": "markdown",
   "metadata": {},
   "source": [
    "## Exploratory Analysis\n",
    "\n",
    "Start by loading in the dataset stored in the file 'homepage_actions.csv'. Then conduct an exploratory analysis to get familiar with the data."
   ]
  },
  {
   "attachments": {},
   "cell_type": "markdown",
   "metadata": {},
   "source": [
    "> Hints:\n",
    "    * Start investigating the id column:\n",
    "        * How many viewers also clicked?\n",
    "        * Are there any anomalies with the data; did anyone click who didn't view?\n",
    "        * Is there any overlap between the control and experiment groups? \n",
    "            * If so, how do you plan to account for this in your experimental design?"
   ]
  },
  {
   "cell_type": "code",
   "execution_count": 2,
   "metadata": {},
   "outputs": [
    {
     "name": "stdout",
     "output_type": "stream",
     "text": [
      "                    timestamp      id       group action\n",
      "0  2016-09-24 17:42:27.839496  804196  experiment   view\n",
      "1  2016-09-24 19:19:03.542569  434745  experiment   view\n",
      "2  2016-09-24 19:36:00.944135  507599  experiment   view\n",
      "3  2016-09-24 19:59:02.646620  671993     control   view\n",
      "4  2016-09-24 20:26:14.466886  536734  experiment   view\n",
      "Number of viewers: 6328 ,  number of clickers:1860 \n",
      "Number of viewers who also clicked: 1860\n",
      "Number of anomalies (clicked without viewing): 0\n",
      "Number of overlapping IDs between control and experiment groups: 0\n"
     ]
    }
   ],
   "source": [
    "#Your code here\n",
    "import pandas as pd\n",
    "import numpy as np\n",
    "import matplotlib.pyplot as plt\n",
    "import seaborn as sns\n",
    "\n",
    "data = pd.read_csv('homepage_actions.csv')\n",
    "\n",
    "# Check unique values in the 'id' column\n",
    "unique_ids = data['id'].unique()\n",
    "\n",
    "# Find the number of viewers and clickers\n",
    "viewers = data[data['action'] == 'view']['id'].unique()\n",
    "clickers = data[data['action'] == 'click']['id'].unique()\n",
    "num_viewers = len(viewers)\n",
    "num_clickers = len(clickers)\n",
    "\n",
    "# Number of viewers who also clicked\n",
    "viewers_and_clickers = set(viewers) & set(clickers)\n",
    "num_viewers_and_clickers = len(viewers_and_clickers)\n",
    "\n",
    "# Identify anomalies - individuals who clicked without viewing\n",
    "anomalies = set(clickers) - set(viewers)\n",
    "num_anomalies = len(anomalies)\n",
    "\n",
    "# Check for overlap between control and experiment groups\n",
    "overlap = set(data[data['group'] == 'control']['id']).intersection(set(data[data['group'] == 'experiment']['id']))\n",
    "num_overlap = len(overlap)\n",
    "\n",
    "# Print results\n",
    "print(data.head())\n",
    "\n",
    "print(f\"Number of viewers: {num_viewers} ,  number of clickers:{num_clickers} \" )\n",
    "print(f\"Number of viewers who also clicked: {num_viewers_and_clickers}\")\n",
    "print(f\"Number of anomalies (clicked without viewing): {num_anomalies}\")\n",
    "print(f\"Number of overlapping IDs between control and experiment groups: {num_overlap}\")"
   ]
  },
  {
   "attachments": {},
   "cell_type": "markdown",
   "metadata": {},
   "source": [
    "## Conduct a Statistical Test\n",
    "\n",
    "Conduct a statistical test to determine whether the experimental homepage was more effective than that of the control group."
   ]
  },
  {
   "cell_type": "code",
   "execution_count": 3,
   "metadata": {},
   "outputs": [
    {
     "name": "stdout",
     "output_type": "stream",
     "text": [
      "T-statistic: -0.5827851039715325\n",
      "P-value: 0.5601087216132623\n",
      "There is no significant difference between the experimental and control groups.\n"
     ]
    }
   ],
   "source": [
    "#Your code here\n",
    "from scipy.stats import ttest_ind\n",
    "\n",
    "# Filter data for clicks only\n",
    "click_data = data[data['action'] == 'click']\n",
    "\n",
    "# Separate data into control and experiment groups\n",
    "control_ids = click_data[click_data['group'] == 'control']['id']\n",
    "experiment_ids = click_data[click_data['group'] == 'experiment']['id']\n",
    "\n",
    "# Check if there is variability in the data\n",
    "if control_ids.nunique() == 1 or experiment_ids.nunique() == 1:\n",
    "    print(\"Not enough variability in the data to perform t-test.\")\n",
    "else:\n",
    "    # Perform independent samples t-test\n",
    "    t_stat, p_value = ttest_ind(control_ids, experiment_ids, equal_var=False)\n",
    "\n",
    "    # Print the results\n",
    "    print(f\"T-statistic: {t_stat}\")\n",
    "    print(f\"P-value: {p_value}\")\n",
    "\n",
    "    # Interpret the results\n",
    "    alpha = 0.05  # significance level\n",
    "    if p_value < alpha:\n",
    "        print(\"The experimental homepage is considered more effective than the control group.\")\n",
    "    else:\n",
    "        print(\"There is no significant difference between the experimental and control groups.\")"
   ]
  },
  {
   "attachments": {},
   "cell_type": "markdown",
   "metadata": {},
   "source": [
    "## Verifying Results\n",
    "\n",
    "One sensible formulation of the data to answer the hypothesis test above would be to create a binary variable representing each individual in the experiment and control group. This binary variable would represent whether or not that individual clicked on the homepage; 1 for they did and 0 if they did not. \n",
    "\n",
    "The variance for the number of successes in a sample of a binomial variable with n observations is given by:\n",
    "\n",
    "## $n\\bullet p (1-p)$\n",
    "\n",
    "Given this, perform 3 steps to verify the results of your statistical test:\n",
    "1. Calculate the expected number of clicks for the experiment group, if it had the same click-through rate as that of the control group. \n",
    "2. Calculate the number of standard deviations that the actual number of clicks was from this estimate. \n",
    "3. Finally, calculate a p-value using the normal distribution based on this z-score."
   ]
  },
  {
   "attachments": {},
   "cell_type": "markdown",
   "metadata": {},
   "source": [
    "### Step 1:\n",
    "Calculate the expected number of clicks for the experiment group, if it had the same click-through rate as that of the control group. "
   ]
  },
  {
   "cell_type": "code",
   "execution_count": 4,
   "metadata": {},
   "outputs": [
    {
     "name": "stdout",
     "output_type": "stream",
     "text": [
      "Expected number of clicks for the experiment group: 932\n"
     ]
    }
   ],
   "source": [
    "#Your code here\n",
    "# Expected number of clicks for the experiment group\n",
    "expected_experiment_clicks = len(control_ids) #control_ctr * experiment_ids.nunique()\n",
    "\n",
    "print(f\"Expected number of clicks for the experiment group: {expected_experiment_clicks}\")"
   ]
  },
  {
   "attachments": {},
   "cell_type": "markdown",
   "metadata": {},
   "source": [
    "### Step 2:\n",
    "Calculate the number of standard deviations that the actual number of clicks was from this estimate."
   ]
  },
  {
   "cell_type": "code",
   "execution_count": 11,
   "metadata": {},
   "outputs": [
    {
     "data": {
      "text/plain": [
       "-1.7888543819998317"
      ]
     },
     "execution_count": 11,
     "metadata": {},
     "output_type": "execute_result"
    }
   ],
   "source": [
    "#Your code here\n",
    "from scipy.stats import norm\n",
    "\n",
    "# Calculate the actual number of clicks for the experiment group\n",
    "actual_experiment_clicks = len(experiment_ids)\n",
    "# Calculate the standard deviation of the binomial distribution\n",
    "binomial_std =  (1 - (actual_experiment_clicks - expected_experiment_clicks)) **0.5 # Assuming a binomial distribution\n",
    "# Calculate the z-score\n",
    "z_score = (actual_experiment_clicks - expected_experiment_clicks) / binomial_std\n",
    "z_score"
   ]
  },
  {
   "attachments": {},
   "cell_type": "markdown",
   "metadata": {},
   "source": [
    "### Step 3: \n",
    "Finally, calculate a p-value using the normal distribution based on this z-score."
   ]
  },
  {
   "cell_type": "code",
   "execution_count": 12,
   "metadata": {},
   "outputs": [
    {
     "name": "stdout",
     "output_type": "stream",
     "text": [
      "P-value based on z-score: 0.07363827012030266\n"
     ]
    }
   ],
   "source": [
    "#Your code here\n",
    "\n",
    "# Calculate the two-tailed p-value\n",
    "p_value = 2 * (1 - norm.cdf(abs(z_score)))\n",
    "\n",
    "print(f\"P-value based on z-score: {p_value}\")"
   ]
  },
  {
   "attachments": {},
   "cell_type": "markdown",
   "metadata": {},
   "source": [
    "### Analysis:\n",
    "\n",
    "Does this result roughly match that of the previous statistical test?\n",
    "\n",
    "The values are different due to the nature of the tests, based on a significance level (e.g., 0.05). However, as observed, the calculated p-values are greater than 0.05, and you would generally fail to reject the null hypothesis in both cases. Both p-values are above my significance level of 0.05. The results are roughly consistent in terms of failing to reject the null hypothesis that \"There is no significant difference between the experimental and control groups\".\r\n"
   ]
  },
  {
   "attachments": {},
   "cell_type": "markdown",
   "metadata": {},
   "source": [
    "## Summary\n",
    "\n",
    "In this lab, you continued to get more practice designing and conducting AB tests. This required additional work preprocessing and formulating the initial problem in a suitable manner. Additionally, you also saw how to verify results, strengthening your knowledge of binomial variables, and reviewing initial statistical concepts of the central limit theorem, standard deviation, z-scores, and their accompanying p-values."
   ]
  }
 ],
 "metadata": {
  "kernelspec": {
   "display_name": "Python 3 (ipykernel)",
   "language": "python",
   "name": "python3"
  },
  "language_info": {
   "codemirror_mode": {
    "name": "ipython",
    "version": 3
   },
   "file_extension": ".py",
   "mimetype": "text/x-python",
   "name": "python",
   "nbconvert_exporter": "python",
   "pygments_lexer": "ipython3",
   "version": "3.10.13"
  }
 },
 "nbformat": 4,
 "nbformat_minor": 4
}
